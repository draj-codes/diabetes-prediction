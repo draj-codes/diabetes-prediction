{
 "cells": [
  {
   "cell_type": "markdown",
   "id": "7f773d80",
   "metadata": {},
   "source": [
    "# **Diabetes Prediction**"
   ]
  },
  {
   "cell_type": "markdown",
   "id": "4f732c90",
   "metadata": {},
   "source": [
    "![alt text](what-is-diabetes-1024x532.png)"
   ]
  },
  {
   "cell_type": "markdown",
   "id": "84362d2c",
   "metadata": {},
   "source": [
    "## Project Objective "
   ]
  },
  {
   "cell_type": "markdown",
   "id": "f4ca7b0e",
   "metadata": {},
   "source": [
    "The Diabetes prediction dataset is a collection of medical and demographic data from patients, along with their diabetes status (positive or negative). The data includes features such as age, gender, body mass index (BMI), hypertension, heart disease, smoking history, HbA1c level, and blood glucose level. This dataset can be used to build machine learning models to predict diabetes in patients based on their medical history and demographic information. This can be useful for healthcare professionals in identifying patients who may be at risk of developing diabetes and in developing personalized treatment plans. Additionally, the dataset can be used by researchers to explore the relationships between various medical and demographic factors and the likelihood of developing diabetes."
   ]
  },
  {
   "cell_type": "markdown",
   "id": "9644b15f",
   "metadata": {},
   "source": [
    "#### Step - 1 import modules"
   ]
  },
  {
   "cell_type": "code",
   "execution_count": 1,
   "id": "f34dbf09",
   "metadata": {},
   "outputs": [],
   "source": [
    "import pandas as pd\n",
    "import numpy as np\n",
    "import matplotlib.pyplot as plt\n",
    "import warnings\n",
    "import seaborn as sns\n",
    "import os\n",
    "from sklearn.model_selection import train_test_split\n",
    "from sklearn.preprocessing import StandardScaler, MinMaxScaler\n",
    "from sklearn.linear_model import LogisticRegression\n",
    "from sklearn.metrics import accuracy_score,precision_score,recall_score,f1_score,classification_report\n",
    "from sklearn.metrics import confusion_matrix\n",
    "import kagglehub\n",
    "warnings.filterwarnings('ignore')"
   ]
  },
  {
   "cell_type": "markdown",
   "id": "f4c3b8c4",
   "metadata": {},
   "source": [
    "#### Step - 2 Load Data"
   ]
  },
  {
   "cell_type": "code",
   "execution_count": 2,
   "id": "3a71acf7",
   "metadata": {},
   "outputs": [
    {
     "name": "stdout",
     "output_type": "stream",
     "text": [
      "Path to dataset files: C:\\Users\\divya\\.cache\\kagglehub\\datasets\\iammustafatz\\diabetes-prediction-dataset\\versions\\1\n"
     ]
    },
    {
     "data": {
      "text/plain": [
       "['diabetes_prediction_dataset.csv']"
      ]
     },
     "metadata": {},
     "output_type": "display_data"
    },
    {
     "data": {
      "text/plain": [
       "'C:\\\\Users\\\\divya\\\\.cache\\\\kagglehub\\\\datasets\\\\iammustafatz\\\\diabetes-prediction-dataset\\\\versions\\\\1/diabetes_prediction_dataset.csv'"
      ]
     },
     "execution_count": 2,
     "metadata": {},
     "output_type": "execute_result"
    }
   ],
   "source": [
    "path = kagglehub.dataset_download(\"iammustafatz/diabetes-prediction-dataset\")\n",
    "print(\"Path to dataset files:\", path)\n",
    "\n",
    "all_files=os.listdir(path)\n",
    "display(all_files)\n",
    "path=path+'/'+all_files[0]\n",
    "path"
   ]
  },
  {
   "cell_type": "markdown",
   "id": "fb4904a4",
   "metadata": {},
   "source": [
    "#### Step - 3 Understanding Data Using EDA"
   ]
  },
  {
   "cell_type": "markdown",
   "id": "1552ecc3",
   "metadata": {},
   "source": [
    "##### Step - 3.1 data cleaning remove unwanted raws"
   ]
  },
  {
   "cell_type": "code",
   "execution_count": 3,
   "id": "1124608a",
   "metadata": {},
   "outputs": [
    {
     "data": {
      "text/html": [
       "<div>\n",
       "<style scoped>\n",
       "    .dataframe tbody tr th:only-of-type {\n",
       "        vertical-align: middle;\n",
       "    }\n",
       "\n",
       "    .dataframe tbody tr th {\n",
       "        vertical-align: top;\n",
       "    }\n",
       "\n",
       "    .dataframe thead th {\n",
       "        text-align: right;\n",
       "    }\n",
       "</style>\n",
       "<table border=\"1\" class=\"dataframe\">\n",
       "  <thead>\n",
       "    <tr style=\"text-align: right;\">\n",
       "      <th></th>\n",
       "      <th>gender</th>\n",
       "      <th>age</th>\n",
       "      <th>hypertension</th>\n",
       "      <th>heart_disease</th>\n",
       "      <th>smoking_history</th>\n",
       "      <th>bmi</th>\n",
       "      <th>HbA1c_level</th>\n",
       "      <th>blood_glucose_level</th>\n",
       "      <th>diabetes</th>\n",
       "    </tr>\n",
       "  </thead>\n",
       "  <tbody>\n",
       "    <tr>\n",
       "      <th>19326</th>\n",
       "      <td>Female</td>\n",
       "      <td>37.0</td>\n",
       "      <td>0</td>\n",
       "      <td>0</td>\n",
       "      <td>former</td>\n",
       "      <td>19.85</td>\n",
       "      <td>6.2</td>\n",
       "      <td>126</td>\n",
       "      <td>0</td>\n",
       "    </tr>\n",
       "    <tr>\n",
       "      <th>54881</th>\n",
       "      <td>Female</td>\n",
       "      <td>22.0</td>\n",
       "      <td>0</td>\n",
       "      <td>0</td>\n",
       "      <td>current</td>\n",
       "      <td>27.32</td>\n",
       "      <td>6.8</td>\n",
       "      <td>240</td>\n",
       "      <td>1</td>\n",
       "    </tr>\n",
       "  </tbody>\n",
       "</table>\n",
       "</div>"
      ],
      "text/plain": [
       "       gender   age  hypertension  heart_disease smoking_history    bmi  \\\n",
       "19326  Female  37.0             0              0          former  19.85   \n",
       "54881  Female  22.0             0              0         current  27.32   \n",
       "\n",
       "       HbA1c_level  blood_glucose_level  diabetes  \n",
       "19326          6.2                  126         0  \n",
       "54881          6.8                  240         1  "
      ]
     },
     "execution_count": 3,
     "metadata": {},
     "output_type": "execute_result"
    }
   ],
   "source": [
    "data=pd.read_csv(path)\n",
    "data.sample(2)"
   ]
  },
  {
   "cell_type": "code",
   "execution_count": 88,
   "id": "887d3cef",
   "metadata": {},
   "outputs": [
    {
     "data": {
      "text/html": [
       "<div>\n",
       "<style scoped>\n",
       "    .dataframe tbody tr th:only-of-type {\n",
       "        vertical-align: middle;\n",
       "    }\n",
       "\n",
       "    .dataframe tbody tr th {\n",
       "        vertical-align: top;\n",
       "    }\n",
       "\n",
       "    .dataframe thead th {\n",
       "        text-align: right;\n",
       "    }\n",
       "</style>\n",
       "<table border=\"1\" class=\"dataframe\">\n",
       "  <thead>\n",
       "    <tr style=\"text-align: right;\">\n",
       "      <th></th>\n",
       "      <th>gender</th>\n",
       "      <th>age</th>\n",
       "      <th>hypertension</th>\n",
       "      <th>heart_disease</th>\n",
       "      <th>smoking_history</th>\n",
       "      <th>bmi</th>\n",
       "      <th>HbA1c_level</th>\n",
       "      <th>blood_glucose_level</th>\n",
       "      <th>diabetes</th>\n",
       "    </tr>\n",
       "  </thead>\n",
       "  <tbody>\n",
       "    <tr>\n",
       "      <th>0</th>\n",
       "      <td>Female</td>\n",
       "      <td>80.0</td>\n",
       "      <td>0</td>\n",
       "      <td>1</td>\n",
       "      <td>never</td>\n",
       "      <td>25.19</td>\n",
       "      <td>6.6</td>\n",
       "      <td>140</td>\n",
       "      <td>0</td>\n",
       "    </tr>\n",
       "    <tr>\n",
       "      <th>1</th>\n",
       "      <td>Female</td>\n",
       "      <td>54.0</td>\n",
       "      <td>0</td>\n",
       "      <td>0</td>\n",
       "      <td>No Info</td>\n",
       "      <td>27.32</td>\n",
       "      <td>6.6</td>\n",
       "      <td>80</td>\n",
       "      <td>0</td>\n",
       "    </tr>\n",
       "    <tr>\n",
       "      <th>2</th>\n",
       "      <td>Male</td>\n",
       "      <td>28.0</td>\n",
       "      <td>0</td>\n",
       "      <td>0</td>\n",
       "      <td>never</td>\n",
       "      <td>27.32</td>\n",
       "      <td>5.7</td>\n",
       "      <td>158</td>\n",
       "      <td>0</td>\n",
       "    </tr>\n",
       "    <tr>\n",
       "      <th>3</th>\n",
       "      <td>Female</td>\n",
       "      <td>36.0</td>\n",
       "      <td>0</td>\n",
       "      <td>0</td>\n",
       "      <td>current</td>\n",
       "      <td>23.45</td>\n",
       "      <td>5.0</td>\n",
       "      <td>155</td>\n",
       "      <td>0</td>\n",
       "    </tr>\n",
       "    <tr>\n",
       "      <th>4</th>\n",
       "      <td>Male</td>\n",
       "      <td>76.0</td>\n",
       "      <td>1</td>\n",
       "      <td>1</td>\n",
       "      <td>current</td>\n",
       "      <td>20.14</td>\n",
       "      <td>4.8</td>\n",
       "      <td>155</td>\n",
       "      <td>0</td>\n",
       "    </tr>\n",
       "  </tbody>\n",
       "</table>\n",
       "</div>"
      ],
      "text/plain": [
       "   gender   age  hypertension  heart_disease smoking_history    bmi  \\\n",
       "0  Female  80.0             0              1           never  25.19   \n",
       "1  Female  54.0             0              0         No Info  27.32   \n",
       "2    Male  28.0             0              0           never  27.32   \n",
       "3  Female  36.0             0              0         current  23.45   \n",
       "4    Male  76.0             1              1         current  20.14   \n",
       "\n",
       "   HbA1c_level  blood_glucose_level  diabetes  \n",
       "0          6.6                  140         0  \n",
       "1          6.6                   80         0  \n",
       "2          5.7                  158         0  \n",
       "3          5.0                  155         0  \n",
       "4          4.8                  155         0  "
      ]
     },
     "execution_count": 88,
     "metadata": {},
     "output_type": "execute_result"
    }
   ],
   "source": [
    "data.head()"
   ]
  },
  {
   "cell_type": "code",
   "execution_count": 89,
   "id": "8d4ba85d",
   "metadata": {},
   "outputs": [
    {
     "data": {
      "text/html": [
       "<div>\n",
       "<style scoped>\n",
       "    .dataframe tbody tr th:only-of-type {\n",
       "        vertical-align: middle;\n",
       "    }\n",
       "\n",
       "    .dataframe tbody tr th {\n",
       "        vertical-align: top;\n",
       "    }\n",
       "\n",
       "    .dataframe thead th {\n",
       "        text-align: right;\n",
       "    }\n",
       "</style>\n",
       "<table border=\"1\" class=\"dataframe\">\n",
       "  <thead>\n",
       "    <tr style=\"text-align: right;\">\n",
       "      <th></th>\n",
       "      <th>gender</th>\n",
       "      <th>age</th>\n",
       "      <th>hypertension</th>\n",
       "      <th>heart_disease</th>\n",
       "      <th>smoking_history</th>\n",
       "      <th>bmi</th>\n",
       "      <th>HbA1c_level</th>\n",
       "      <th>blood_glucose_level</th>\n",
       "      <th>diabetes</th>\n",
       "    </tr>\n",
       "  </thead>\n",
       "  <tbody>\n",
       "    <tr>\n",
       "      <th>99995</th>\n",
       "      <td>Female</td>\n",
       "      <td>80.0</td>\n",
       "      <td>0</td>\n",
       "      <td>0</td>\n",
       "      <td>No Info</td>\n",
       "      <td>27.32</td>\n",
       "      <td>6.2</td>\n",
       "      <td>90</td>\n",
       "      <td>0</td>\n",
       "    </tr>\n",
       "    <tr>\n",
       "      <th>99996</th>\n",
       "      <td>Female</td>\n",
       "      <td>2.0</td>\n",
       "      <td>0</td>\n",
       "      <td>0</td>\n",
       "      <td>No Info</td>\n",
       "      <td>17.37</td>\n",
       "      <td>6.5</td>\n",
       "      <td>100</td>\n",
       "      <td>0</td>\n",
       "    </tr>\n",
       "    <tr>\n",
       "      <th>99997</th>\n",
       "      <td>Male</td>\n",
       "      <td>66.0</td>\n",
       "      <td>0</td>\n",
       "      <td>0</td>\n",
       "      <td>former</td>\n",
       "      <td>27.83</td>\n",
       "      <td>5.7</td>\n",
       "      <td>155</td>\n",
       "      <td>0</td>\n",
       "    </tr>\n",
       "    <tr>\n",
       "      <th>99998</th>\n",
       "      <td>Female</td>\n",
       "      <td>24.0</td>\n",
       "      <td>0</td>\n",
       "      <td>0</td>\n",
       "      <td>never</td>\n",
       "      <td>35.42</td>\n",
       "      <td>4.0</td>\n",
       "      <td>100</td>\n",
       "      <td>0</td>\n",
       "    </tr>\n",
       "    <tr>\n",
       "      <th>99999</th>\n",
       "      <td>Female</td>\n",
       "      <td>57.0</td>\n",
       "      <td>0</td>\n",
       "      <td>0</td>\n",
       "      <td>current</td>\n",
       "      <td>22.43</td>\n",
       "      <td>6.6</td>\n",
       "      <td>90</td>\n",
       "      <td>0</td>\n",
       "    </tr>\n",
       "  </tbody>\n",
       "</table>\n",
       "</div>"
      ],
      "text/plain": [
       "       gender   age  hypertension  heart_disease smoking_history    bmi  \\\n",
       "99995  Female  80.0             0              0         No Info  27.32   \n",
       "99996  Female   2.0             0              0         No Info  17.37   \n",
       "99997    Male  66.0             0              0          former  27.83   \n",
       "99998  Female  24.0             0              0           never  35.42   \n",
       "99999  Female  57.0             0              0         current  22.43   \n",
       "\n",
       "       HbA1c_level  blood_glucose_level  diabetes  \n",
       "99995          6.2                   90         0  \n",
       "99996          6.5                  100         0  \n",
       "99997          5.7                  155         0  \n",
       "99998          4.0                  100         0  \n",
       "99999          6.6                   90         0  "
      ]
     },
     "execution_count": 89,
     "metadata": {},
     "output_type": "execute_result"
    }
   ],
   "source": [
    "data.tail()"
   ]
  },
  {
   "cell_type": "code",
   "execution_count": 90,
   "id": "6aa7b5de",
   "metadata": {},
   "outputs": [
    {
     "name": "stdout",
     "output_type": "stream",
     "text": [
      "<class 'pandas.core.frame.DataFrame'>\n",
      "RangeIndex: 100000 entries, 0 to 99999\n",
      "Data columns (total 9 columns):\n",
      " #   Column               Non-Null Count   Dtype  \n",
      "---  ------               --------------   -----  \n",
      " 0   gender               100000 non-null  object \n",
      " 1   age                  100000 non-null  float64\n",
      " 2   hypertension         100000 non-null  int64  \n",
      " 3   heart_disease        100000 non-null  int64  \n",
      " 4   smoking_history      100000 non-null  object \n",
      " 5   bmi                  100000 non-null  float64\n",
      " 6   HbA1c_level          100000 non-null  float64\n",
      " 7   blood_glucose_level  100000 non-null  int64  \n",
      " 8   diabetes             100000 non-null  int64  \n",
      "dtypes: float64(3), int64(4), object(2)\n",
      "memory usage: 6.9+ MB\n"
     ]
    }
   ],
   "source": [
    "data.info()"
   ]
  },
  {
   "cell_type": "code",
   "execution_count": 91,
   "id": "daa9d97a",
   "metadata": {},
   "outputs": [
    {
     "data": {
      "text/plain": [
       "(100000, 9)"
      ]
     },
     "execution_count": 91,
     "metadata": {},
     "output_type": "execute_result"
    }
   ],
   "source": [
    "data.shape"
   ]
  },
  {
   "cell_type": "code",
   "execution_count": 4,
   "id": "2cb5971b",
   "metadata": {},
   "outputs": [
    {
     "name": "stdout",
     "output_type": "stream",
     "text": [
      "no. of duplicated rows is (3854, 9)\n",
      "No of rows after droping duplicated rows is (96146, 9)\n"
     ]
    }
   ],
   "source": [
    "#checking and droping duplicated rows\n",
    "duplicated_rows=data[data.duplicated()]\n",
    "print(f'no. of duplicated rows is {duplicated_rows.shape}')\n",
    "data=data.drop_duplicates()\n",
    "print(f'No of rows after droping duplicated rows is {data.shape}')"
   ]
  },
  {
   "cell_type": "code",
   "execution_count": 93,
   "id": "2f0de048",
   "metadata": {},
   "outputs": [
    {
     "data": {
      "text/plain": [
       "<Axes: >"
      ]
     },
     "execution_count": 93,
     "metadata": {},
     "output_type": "execute_result"
    },
    {
     "data": {
      "image/png": "[encoded data removed]",
      "text/plain": [
       "<Figure size 640x480 with 2 Axes>"
      ]
     },
     "metadata": {},
     "output_type": "display_data"
    }
   ],
   "source": [
    "sns.heatmap(data.isnull())"
   ]
  },
  {
   "cell_type": "code",
   "execution_count": 94,
   "id": "73b74f26",
   "metadata": {},
   "outputs": [
    {
     "data": {
      "text/plain": [
       "gender                 0\n",
       "age                    0\n",
       "hypertension           0\n",
       "heart_disease          0\n",
       "smoking_history        0\n",
       "bmi                    0\n",
       "HbA1c_level            0\n",
       "blood_glucose_level    0\n",
       "diabetes               0\n",
       "dtype: int64"
      ]
     },
     "execution_count": 94,
     "metadata": {},
     "output_type": "execute_result"
    }
   ],
   "source": [
    "data.isna().sum()"
   ]
  },
  {
   "cell_type": "markdown",
   "id": "b8ec54c9",
   "metadata": {},
   "source": [
    "All data is not null however 2 of the rows are object not a number, need to encode them"
   ]
  },
  {
   "cell_type": "code",
   "execution_count": 5,
   "id": "7f49a41a",
   "metadata": {},
   "outputs": [
    {
     "data": {
      "text/plain": [
       "['gender',\n",
       " 'age',\n",
       " 'hypertension',\n",
       " 'heart_disease',\n",
       " 'smoking_history',\n",
       " 'bmi',\n",
       " 'HbA1c_level',\n",
       " 'blood_glucose_level',\n",
       " 'diabetes']"
      ]
     },
     "execution_count": 5,
     "metadata": {},
     "output_type": "execute_result"
    }
   ],
   "source": [
    "cols=list(data.columns)\n",
    "cols"
   ]
  },
  {
   "cell_type": "code",
   "execution_count": 96,
   "id": "d592d0a0",
   "metadata": {},
   "outputs": [
    {
     "name": "stdout",
     "output_type": "stream",
     "text": [
      "Unique values in gender: ['Female' 'Male' 'Other']\n",
      "Unique values in smoking_history: ['never' 'No Info' 'current' 'former' 'ever' 'not current']\n",
      "Object columns: ['gender', 'smoking_history']\n"
     ]
    }
   ],
   "source": [
    "object_columns=[]\n",
    "for col in cols:\n",
    "    if data[col].dtype=='object':\n",
    "        print(f\"Unique values in {col}: {data[col].unique()}\")\n",
    "        object_columns.append(col)\n",
    "print(\"Object columns:\", object_columns)"
   ]
  },
  {
   "cell_type": "code",
   "execution_count": 6,
   "id": "81d701fd",
   "metadata": {},
   "outputs": [
    {
     "name": "stdout",
     "output_type": "stream",
     "text": [
      "Before Droping\n",
      "gender\n",
      "Female    56161\n",
      "Male      39967\n",
      "Other        18\n",
      "Name: count, dtype: int64\n",
      "\n",
      "\n",
      "After Droping\n",
      "gender\n",
      "Female    56161\n",
      "Male      39967\n",
      "Name: count, dtype: int64\n"
     ]
    }
   ],
   "source": [
    "#Checking the value count of 'gender' and if 'other' is less then droping those rows\n",
    "print(f'Before Droping\\n{data['gender'].value_counts()}')\n",
    "\n",
    "#it's only 18 so we'll remove the 'other' rows\n",
    "data=data[data['gender']!='Other']\n",
    "print(f'\\n\\nAfter Droping\\n{data['gender'].value_counts()}')"
   ]
  },
  {
   "cell_type": "markdown",
   "id": "abc3e93f",
   "metadata": {},
   "source": [
    "### **Performing EDA Here**"
   ]
  },
  {
   "cell_type": "markdown",
   "id": "47a7e311",
   "metadata": {},
   "source": [
    "##### Step - 3.2 creating visual representation of data "
   ]
  },
  {
   "cell_type": "code",
   "execution_count": null,
   "id": "75eff369",
   "metadata": {},
   "outputs": [],
   "source": [
    "# Histogram for age\n",
    "plt.hist(data['age'], bins=30, edgecolor='black')\n",
    "plt.title('Age Distribution')\n",
    "plt.xlabel('Age')\n",
    "plt.ylabel('Count')\n",
    "plt.show()"
   ]
  },
  {
   "cell_type": "code",
   "execution_count": null,
   "id": "87db6101",
   "metadata": {},
   "outputs": [],
   "source": [
    "#checking the gender distribution of the dataset\n",
    "sns.countplot(x='gender', data=data, palette='mako')\n",
    "plt.title('Gender Distribution')\n",
    "plt.show()"
   ]
  },
  {
   "cell_type": "code",
   "execution_count": null,
   "id": "8dab3bd5",
   "metadata": {},
   "outputs": [],
   "source": [
    "#count plots for binary variables\n",
    "for col in ['hypertension', 'heart_disease', 'diabetes']:\n",
    "    sns.countplot(data=data, x=col)\n",
    "    plt.title(f'{col} Distribution')\n",
    "    plt.show()"
   ]
  },
  {
   "cell_type": "code",
   "execution_count": null,
   "id": "51b8d1ca",
   "metadata": {},
   "outputs": [],
   "source": [
    "# Count plot for smoking history\n",
    "warnings.filterwarnings('ignore')\n",
    "sns.countplot(x='smoking_history', data=data, palette='mako')\n",
    "plt.title('Smoking History Distribution')\n",
    "plt.show()"
   ]
  },
  {
   "cell_type": "markdown",
   "id": "07f766c2",
   "metadata": {},
   "source": [
    "Bivariant Analysis from here (Visualisation)"
   ]
  },
  {
   "cell_type": "code",
   "execution_count": null,
   "id": "390c8147",
   "metadata": {},
   "outputs": [],
   "source": [
    "#boxplot BMI vs Diabetes classification\n",
    "sns.boxplot(x='diabetes', y='bmi',hue='gender', data=data)\n",
    "plt.title('BMI vs Diabetes')\n",
    "plt.show()"
   ]
  },
  {
   "cell_type": "code",
   "execution_count": null,
   "id": "a4e15124",
   "metadata": {},
   "outputs": [],
   "source": [
    "#boxplot Age vs Diabetes classification\n",
    "sns.boxplot(x='diabetes', y='age',hue='gender', data=data)\n",
    "plt.title('Age vs Diabetes')\n",
    "plt.show()"
   ]
  },
  {
   "cell_type": "code",
   "execution_count": null,
   "id": "3ffbb601",
   "metadata": {},
   "outputs": [],
   "source": [
    "#count plot of gender vs diabetes\n",
    "sns.countplot( data=data, x='gender', hue='diabetes')\n",
    "plt.title('Gender vs Diabetes')\n",
    "plt.show()"
   ]
  },
  {
   "cell_type": "markdown",
   "id": "22a80760",
   "metadata": {},
   "source": [
    "Scatterplot here"
   ]
  },
  {
   "cell_type": "code",
   "execution_count": null,
   "id": "15a70780",
   "metadata": {},
   "outputs": [],
   "source": [
    "sns.scatterplot(x='age', y='bmi', data=data, hue='diabetes')\n",
    "plt.show()\n",
    "#here more diabetes people are with higher age and it seems like their BMI is higher too as they are at the top right of the graph\n"
   ]
  },
  {
   "cell_type": "code",
   "execution_count": null,
   "id": "a4f9ea98",
   "metadata": {},
   "outputs": [],
   "source": [
    "#relation between diabetes, bmi on the basis of gender\n",
    "sns.boxplot(x='diabetes', y='bmi', hue='gender', data=data)\n",
    "plt.title('BMI Distribution by Diabetes Status and Gender')\n",
    "plt.show()"
   ]
  },
  {
   "cell_type": "code",
   "execution_count": null,
   "id": "2accc5f7",
   "metadata": {},
   "outputs": [],
   "source": [
    "#same as above one but violin and splitted for gender\n",
    "sns.violinplot(x='diabetes', y='bmi', hue='gender', split=True, data=data)\n",
    "plt.title('BMI vs Diabetes split by Gender')\n",
    "plt.show()"
   ]
  },
  {
   "cell_type": "code",
   "execution_count": 100,
   "id": "8e75e2ba",
   "metadata": {},
   "outputs": [
    {
     "name": "stdout",
     "output_type": "stream",
     "text": [
      "(96128, 9)\n"
     ]
    },
    {
     "data": {
      "text/plain": [
       "smoking_history\n",
       "never      34395\n",
       "No_Info    32881\n",
       "former     19655\n",
       "current     9197\n",
       "Name: count, dtype: int64"
      ]
     },
     "execution_count": 100,
     "metadata": {},
     "output_type": "execute_result"
    }
   ],
   "source": [
    "#replacing not current to former as both are the same thing\n",
    "smoking_replace_dict={'not current':'former',\n",
    "                      'ever':'former'\n",
    "                       ,'No Info': 'No_Info'\n",
    "                      }\n",
    "data.replace(smoking_replace_dict, inplace=True)\n",
    "print(data.shape)\n",
    "data['smoking_history'].value_counts()"
   ]
  },
  {
   "cell_type": "markdown",
   "id": "7c34d169",
   "metadata": {},
   "source": [
    "### Encoding"
   ]
  },
  {
   "cell_type": "code",
   "execution_count": 7,
   "id": "37a8e04c",
   "metadata": {},
   "outputs": [
    {
     "data": {
      "text/html": [
       "<div>\n",
       "<style scoped>\n",
       "    .dataframe tbody tr th:only-of-type {\n",
       "        vertical-align: middle;\n",
       "    }\n",
       "\n",
       "    .dataframe tbody tr th {\n",
       "        vertical-align: top;\n",
       "    }\n",
       "\n",
       "    .dataframe thead th {\n",
       "        text-align: right;\n",
       "    }\n",
       "</style>\n",
       "<table border=\"1\" class=\"dataframe\">\n",
       "  <thead>\n",
       "    <tr style=\"text-align: right;\">\n",
       "      <th></th>\n",
       "      <th>age</th>\n",
       "      <th>hypertension</th>\n",
       "      <th>heart_disease</th>\n",
       "      <th>smoking_history</th>\n",
       "      <th>bmi</th>\n",
       "      <th>HbA1c_level</th>\n",
       "      <th>blood_glucose_level</th>\n",
       "      <th>diabetes</th>\n",
       "      <th>gender_encoded</th>\n",
       "    </tr>\n",
       "  </thead>\n",
       "  <tbody>\n",
       "    <tr>\n",
       "      <th>81489</th>\n",
       "      <td>42.0</td>\n",
       "      <td>0</td>\n",
       "      <td>0</td>\n",
       "      <td>never</td>\n",
       "      <td>32.78</td>\n",
       "      <td>5.7</td>\n",
       "      <td>158</td>\n",
       "      <td>0</td>\n",
       "      <td>0</td>\n",
       "    </tr>\n",
       "    <tr>\n",
       "      <th>35093</th>\n",
       "      <td>52.0</td>\n",
       "      <td>0</td>\n",
       "      <td>0</td>\n",
       "      <td>never</td>\n",
       "      <td>36.20</td>\n",
       "      <td>6.2</td>\n",
       "      <td>140</td>\n",
       "      <td>0</td>\n",
       "      <td>0</td>\n",
       "    </tr>\n",
       "    <tr>\n",
       "      <th>31294</th>\n",
       "      <td>15.0</td>\n",
       "      <td>0</td>\n",
       "      <td>0</td>\n",
       "      <td>never</td>\n",
       "      <td>23.13</td>\n",
       "      <td>6.6</td>\n",
       "      <td>155</td>\n",
       "      <td>0</td>\n",
       "      <td>0</td>\n",
       "    </tr>\n",
       "    <tr>\n",
       "      <th>31984</th>\n",
       "      <td>7.0</td>\n",
       "      <td>0</td>\n",
       "      <td>0</td>\n",
       "      <td>never</td>\n",
       "      <td>27.32</td>\n",
       "      <td>5.8</td>\n",
       "      <td>155</td>\n",
       "      <td>0</td>\n",
       "      <td>1</td>\n",
       "    </tr>\n",
       "    <tr>\n",
       "      <th>46650</th>\n",
       "      <td>33.0</td>\n",
       "      <td>0</td>\n",
       "      <td>0</td>\n",
       "      <td>No Info</td>\n",
       "      <td>30.20</td>\n",
       "      <td>6.6</td>\n",
       "      <td>90</td>\n",
       "      <td>0</td>\n",
       "      <td>1</td>\n",
       "    </tr>\n",
       "  </tbody>\n",
       "</table>\n",
       "</div>"
      ],
      "text/plain": [
       "        age  hypertension  heart_disease smoking_history    bmi  HbA1c_level  \\\n",
       "81489  42.0             0              0           never  32.78          5.7   \n",
       "35093  52.0             0              0           never  36.20          6.2   \n",
       "31294  15.0             0              0           never  23.13          6.6   \n",
       "31984   7.0             0              0           never  27.32          5.8   \n",
       "46650  33.0             0              0         No Info  30.20          6.6   \n",
       "\n",
       "       blood_glucose_level  diabetes  gender_encoded  \n",
       "81489                  158         0               0  \n",
       "35093                  140         0               0  \n",
       "31294                  155         0               0  \n",
       "31984                  155         0               1  \n",
       "46650                   90         0               1  "
      ]
     },
     "metadata": {},
     "output_type": "display_data"
    },
    {
     "data": {
      "text/plain": [
       "'Male: 1\\n   Female: 0'"
      ]
     },
     "execution_count": 7,
     "metadata": {},
     "output_type": "execute_result"
    }
   ],
   "source": [
    "# performing binary encoding here because i's either male or female here now after dropping \n",
    "# 'Other' from the dataset\n",
    "data['gender_encoded'] = (data['gender'] == 'Male').astype(int)\n",
    "\n",
    "#droping the original 'gender' column as it's no longer needed\n",
    "data = data.drop('gender', axis=1)\n",
    "display(data.sample(5))  \n",
    "\n",
    "'''Male: 1\n",
    "   Female: 0'''"
   ]
  },
  {
   "cell_type": "code",
   "execution_count": 99,
   "id": "13f49633",
   "metadata": {},
   "outputs": [
    {
     "data": {
      "text/plain": [
       "['never', 'No Info', 'current', 'former', 'ever', 'not current']"
      ]
     },
     "execution_count": 99,
     "metadata": {},
     "output_type": "execute_result"
    }
   ],
   "source": [
    "smoking_history_col=list(data['smoking_history'].unique())\n",
    "smoking_history_col"
   ]
  },
  {
   "cell_type": "code",
   "execution_count": 101,
   "id": "8cc4611e",
   "metadata": {},
   "outputs": [
    {
     "data": {
      "text/html": [
       "<div>\n",
       "<style scoped>\n",
       "    .dataframe tbody tr th:only-of-type {\n",
       "        vertical-align: middle;\n",
       "    }\n",
       "\n",
       "    .dataframe tbody tr th {\n",
       "        vertical-align: top;\n",
       "    }\n",
       "\n",
       "    .dataframe thead th {\n",
       "        text-align: right;\n",
       "    }\n",
       "</style>\n",
       "<table border=\"1\" class=\"dataframe\">\n",
       "  <thead>\n",
       "    <tr style=\"text-align: right;\">\n",
       "      <th></th>\n",
       "      <th>age</th>\n",
       "      <th>hypertension</th>\n",
       "      <th>heart_disease</th>\n",
       "      <th>bmi</th>\n",
       "      <th>HbA1c_level</th>\n",
       "      <th>blood_glucose_level</th>\n",
       "      <th>diabetes</th>\n",
       "      <th>gender_encoded</th>\n",
       "      <th>smoking_No_Info</th>\n",
       "      <th>smoking_current</th>\n",
       "      <th>smoking_former</th>\n",
       "      <th>smoking_never</th>\n",
       "    </tr>\n",
       "  </thead>\n",
       "  <tbody>\n",
       "    <tr>\n",
       "      <th>0</th>\n",
       "      <td>80.0</td>\n",
       "      <td>0</td>\n",
       "      <td>1</td>\n",
       "      <td>25.19</td>\n",
       "      <td>6.6</td>\n",
       "      <td>140</td>\n",
       "      <td>0</td>\n",
       "      <td>0</td>\n",
       "      <td>0</td>\n",
       "      <td>0</td>\n",
       "      <td>0</td>\n",
       "      <td>1</td>\n",
       "    </tr>\n",
       "    <tr>\n",
       "      <th>1</th>\n",
       "      <td>54.0</td>\n",
       "      <td>0</td>\n",
       "      <td>0</td>\n",
       "      <td>27.32</td>\n",
       "      <td>6.6</td>\n",
       "      <td>80</td>\n",
       "      <td>0</td>\n",
       "      <td>0</td>\n",
       "      <td>1</td>\n",
       "      <td>0</td>\n",
       "      <td>0</td>\n",
       "      <td>0</td>\n",
       "    </tr>\n",
       "    <tr>\n",
       "      <th>2</th>\n",
       "      <td>28.0</td>\n",
       "      <td>0</td>\n",
       "      <td>0</td>\n",
       "      <td>27.32</td>\n",
       "      <td>5.7</td>\n",
       "      <td>158</td>\n",
       "      <td>0</td>\n",
       "      <td>1</td>\n",
       "      <td>0</td>\n",
       "      <td>0</td>\n",
       "      <td>0</td>\n",
       "      <td>1</td>\n",
       "    </tr>\n",
       "    <tr>\n",
       "      <th>3</th>\n",
       "      <td>36.0</td>\n",
       "      <td>0</td>\n",
       "      <td>0</td>\n",
       "      <td>23.45</td>\n",
       "      <td>5.0</td>\n",
       "      <td>155</td>\n",
       "      <td>0</td>\n",
       "      <td>0</td>\n",
       "      <td>0</td>\n",
       "      <td>1</td>\n",
       "      <td>0</td>\n",
       "      <td>0</td>\n",
       "    </tr>\n",
       "    <tr>\n",
       "      <th>4</th>\n",
       "      <td>76.0</td>\n",
       "      <td>1</td>\n",
       "      <td>1</td>\n",
       "      <td>20.14</td>\n",
       "      <td>4.8</td>\n",
       "      <td>155</td>\n",
       "      <td>0</td>\n",
       "      <td>1</td>\n",
       "      <td>0</td>\n",
       "      <td>1</td>\n",
       "      <td>0</td>\n",
       "      <td>0</td>\n",
       "    </tr>\n",
       "  </tbody>\n",
       "</table>\n",
       "</div>"
      ],
      "text/plain": [
       "    age  hypertension  heart_disease    bmi  HbA1c_level  blood_glucose_level  \\\n",
       "0  80.0             0              1  25.19          6.6                  140   \n",
       "1  54.0             0              0  27.32          6.6                   80   \n",
       "2  28.0             0              0  27.32          5.7                  158   \n",
       "3  36.0             0              0  23.45          5.0                  155   \n",
       "4  76.0             1              1  20.14          4.8                  155   \n",
       "\n",
       "   diabetes  gender_encoded  smoking_No_Info  smoking_current  smoking_former  \\\n",
       "0         0               0                0                0               0   \n",
       "1         0               0                1                0               0   \n",
       "2         0               1                0                0               0   \n",
       "3         0               0                0                1               0   \n",
       "4         0               1                0                1               0   \n",
       "\n",
       "   smoking_never  \n",
       "0              1  \n",
       "1              0  \n",
       "2              1  \n",
       "3              0  \n",
       "4              0  "
      ]
     },
     "metadata": {},
     "output_type": "display_data"
    }
   ],
   "source": [
    "# Create the one-hot encoded columns\n",
    "data=pd.get_dummies(data, columns=['smoking_history'], prefix='smoking', dtype=int)\n",
    "\n",
    "# Display the first few rows with the new columns\n",
    "display(data.head())"
   ]
  },
  {
   "cell_type": "markdown",
   "id": "6138e71a",
   "metadata": {},
   "source": [
    "checking the info again (need everything in number)"
   ]
  },
  {
   "cell_type": "code",
   "execution_count": null,
   "id": "e6fbaa86",
   "metadata": {},
   "outputs": [],
   "source": [
    "data.info()"
   ]
  },
  {
   "cell_type": "markdown",
   "id": "780335c3",
   "metadata": {},
   "source": [
    "### Check the corr between features and also make the pairplot"
   ]
  },
  {
   "cell_type": "code",
   "execution_count": null,
   "id": "a9dbdea4",
   "metadata": {},
   "outputs": [],
   "source": [
    "corr=data.corr()\n",
    "corr"
   ]
  },
  {
   "cell_type": "code",
   "execution_count": null,
   "id": "e25031e2",
   "metadata": {},
   "outputs": [],
   "source": [
    "sns.heatmap(corr,fmt='.2f',annot=True, cmap='mako')\n",
    "#fmt= formating, annot= annotation, cmap= The colormap for mapping data values to colors."
   ]
  },
  {
   "cell_type": "code",
   "execution_count": null,
   "id": "7eebb60d",
   "metadata": {},
   "outputs": [],
   "source": [
    "sns.pairplot(data=data,corner=True, hue='diabetes')\n",
    "plt.show()"
   ]
  },
  {
   "cell_type": "code",
   "execution_count": null,
   "id": "b98e5010",
   "metadata": {},
   "outputs": [],
   "source": [
    "#Diabetes vs feature\n",
    "data.corr()['diabetes'].sort_values(ascending = False).reset_index()\n"
   ]
  },
  {
   "cell_type": "code",
   "execution_count": null,
   "id": "5c51eedd",
   "metadata": {},
   "outputs": [],
   "source": [
    "data.columns"
   ]
  },
  {
   "cell_type": "markdown",
   "id": "7e7edbc4",
   "metadata": {},
   "source": [
    "#### Step - 4  Divide data into train and test"
   ]
  },
  {
   "cell_type": "code",
   "execution_count": null,
   "id": "e9c641d8",
   "metadata": {},
   "outputs": [],
   "source": [
    "X = data.drop(\"diabetes\", axis=1)  # all columns except 'diabetes'\n",
    "y = data[\"diabetes\"]\n",
    "y"
   ]
  },
  {
   "cell_type": "code",
   "execution_count": null,
   "id": "20414678",
   "metadata": {},
   "outputs": [],
   "source": [
    "X.shape , y.shape "
   ]
  },
  {
   "cell_type": "code",
   "execution_count": null,
   "id": "058852b9",
   "metadata": {},
   "outputs": [],
   "source": [
    "X_train, X_test, y_train, y_test=train_test_split(X,y,test_size=0.2,random_state=42) #here we divide the data into 80% and 20%. 20% is for testing"
   ]
  },
  {
   "cell_type": "code",
   "execution_count": null,
   "id": "091d614f",
   "metadata": {},
   "outputs": [],
   "source": [
    "print(X_train.shape,X_test.shape, y_train.shape,y_test.shape)"
   ]
  },
  {
   "cell_type": "markdown",
   "id": "c29192e2",
   "metadata": {},
   "source": [
    "### Step - 5 Creating Mutiple Model"
   ]
  },
  {
   "cell_type": "markdown",
   "id": "f7686455",
   "metadata": {},
   "source": [
    "#### Logistic regression"
   ]
  },
  {
   "cell_type": "code",
   "execution_count": null,
   "id": "54e94d02",
   "metadata": {},
   "outputs": [],
   "source": [
    "#5.1 linear regression\n",
    "\n",
    "model_lr=LogisticRegression()\n",
    "model_lr.fit(X_train,y_train)"
   ]
  },
  {
   "cell_type": "code",
   "execution_count": null,
   "id": "9062a820",
   "metadata": {},
   "outputs": [],
   "source": [
    "y_pred=model_lr.predict(X_test)"
   ]
  },
  {
   "cell_type": "code",
   "execution_count": null,
   "id": "cc7c6018",
   "metadata": {},
   "outputs": [],
   "source": [
    "lr_score=model_lr.score(X_test,y_test)\n",
    "print(\"Logistic Regression Score: \",lr_score)\n",
    "lr_pre_score=precision_score(y_test,y_pred)\n",
    "print(\"Logistic Regression Precision Score: \",lr_pre_score)"
   ]
  },
  {
   "cell_type": "code",
   "execution_count": null,
   "id": "ccc98da1",
   "metadata": {},
   "outputs": [],
   "source": [
    "cm=confusion_matrix(y_test,y_pred)\n",
    "plt.title(\"Actual Vs LR Prediction\")\n",
    "sns.heatmap(cm,annot=True,cmap=\"mako\", fmt='d')\n",
    "plt.xlabel(\"Predicted value\")\n",
    "plt.ylabel(\"Actuall value\")"
   ]
  },
  {
   "cell_type": "code",
   "execution_count": null,
   "id": "29d9175d",
   "metadata": {},
   "outputs": [],
   "source": [
    "print(classification_report(y_test,y_pred))"
   ]
  },
  {
   "cell_type": "markdown",
   "id": "0deea535",
   "metadata": {},
   "source": [
    "#### Naive Bayes Classifiers\n"
   ]
  },
  {
   "cell_type": "code",
   "execution_count": null,
   "id": "45d3c16b",
   "metadata": {},
   "outputs": [],
   "source": [
    "from sklearn.naive_bayes import GaussianNB\n",
    "\n",
    "model_NB=GaussianNB()\n",
    "model_NB.fit(X_train,y_train)"
   ]
  },
  {
   "cell_type": "code",
   "execution_count": null,
   "id": "8dc74488",
   "metadata": {},
   "outputs": [],
   "source": [
    "y_pred=model_NB.predict(X_test)"
   ]
  },
  {
   "cell_type": "code",
   "execution_count": null,
   "id": "29dc4f79",
   "metadata": {},
   "outputs": [],
   "source": [
    "NB_score=model_NB.score(X_test,y_test)\n",
    "print(\"NB Score: \",NB_score)\n",
    "nb_pre_score=precision_score(y_test,y_pred)\n",
    "print(\"NB Precision Score: \",nb_pre_score)"
   ]
  },
  {
   "cell_type": "code",
   "execution_count": null,
   "id": "738b4556",
   "metadata": {},
   "outputs": [],
   "source": [
    "cm=confusion_matrix(y_test,y_pred)\n",
    "plt.title(\"Actual Vs NB Prediction\")\n",
    "sns.heatmap(cm,annot=True,cmap=\"mako\", fmt='d')\n",
    "plt.xlabel(\"Predicted value\")\n",
    "plt.ylabel(\"Actuall value\")"
   ]
  },
  {
   "cell_type": "code",
   "execution_count": null,
   "id": "951783d3",
   "metadata": {},
   "outputs": [],
   "source": [
    "print(classification_report(y_test,y_pred))"
   ]
  },
  {
   "cell_type": "markdown",
   "id": "fc20ba73",
   "metadata": {},
   "source": [
    "#### Support Vector Machine ML model"
   ]
  },
  {
   "cell_type": "code",
   "execution_count": null,
   "id": "b9ed1c8d",
   "metadata": {},
   "outputs": [],
   "source": [
    "from sklearn.svm import SVC\n",
    "model_svc=SVC()\n",
    "model_svc.fit(X_train,y_train)"
   ]
  },
  {
   "cell_type": "code",
   "execution_count": null,
   "id": "9cf83904",
   "metadata": {},
   "outputs": [],
   "source": [
    "y_pred=model_svc.predict(X_test)"
   ]
  },
  {
   "cell_type": "code",
   "execution_count": null,
   "id": "4ecbeb5c",
   "metadata": {},
   "outputs": [],
   "source": [
    "svc_score=accuracy_score(y_test,y_pred)\n",
    "svc_pre_score=precision_score(y_test,y_pred)\n",
    "print(\"Accuracy score : \",svc_score)\n",
    "print(\"Precision score : \",svc_pre_score)\n",
    "print(\"Recall Score : \",recall_score(y_test,y_pred))\n",
    "print(\"F1 Score : \",f1_score(y_test,y_pred))"
   ]
  },
  {
   "cell_type": "code",
   "execution_count": null,
   "id": "427232e4",
   "metadata": {},
   "outputs": [],
   "source": [
    "cm= confusion_matrix(y_test,y_pred)\n",
    "plt.title(\"Actual Vs Predictes using SVM ML Model\")\n",
    "sns.heatmap(cm,annot=True,cmap=\"mako\", fmt='d')  \n",
    "plt.xlabel(\"Predicted value\")\n",
    "plt.ylabel(\"Actuall value\")"
   ]
  },
  {
   "cell_type": "code",
   "execution_count": null,
   "id": "e3f4d149",
   "metadata": {},
   "outputs": [],
   "source": [
    "print(classification_report(y_test,y_pred))"
   ]
  },
  {
   "cell_type": "markdown",
   "id": "ac14d7c6",
   "metadata": {},
   "source": [
    "#### 5.4 Decision Tree ML model"
   ]
  },
  {
   "cell_type": "code",
   "execution_count": null,
   "id": "0e417c55",
   "metadata": {},
   "outputs": [],
   "source": [
    "from sklearn.tree import DecisionTreeClassifier\n",
    "model_DT=DecisionTreeClassifier()\n",
    "model_DT.fit(X_train,y_train)"
   ]
  },
  {
   "cell_type": "code",
   "execution_count": null,
   "id": "40c02b36",
   "metadata": {},
   "outputs": [],
   "source": [
    "y_pred=model_DT.predict(X_test)"
   ]
  },
  {
   "cell_type": "code",
   "execution_count": null,
   "id": "82dcd6dd",
   "metadata": {},
   "outputs": [],
   "source": [
    "DT_score=accuracy_score(y_test,y_pred)\n",
    "DT_pre_score=precision_score(y_test,y_pred)\n",
    "print(\"Accuracy score : \",DT_score)\n",
    "print(\"Precision score : \",DT_pre_score)\n",
    "print(\"Recall Score : \",recall_score(y_test,y_pred))\n",
    "print(\"F1 Score : \",f1_score(y_test,y_pred))"
   ]
  },
  {
   "cell_type": "code",
   "execution_count": null,
   "id": "fc2f6720",
   "metadata": {},
   "outputs": [],
   "source": [
    "cm= confusion_matrix(y_test,y_pred)\n",
    "plt.title(\"Actual Vs Predictes using DT Model\")\n",
    "sns.heatmap(cm,annot=True,cmap=\"mako\", fmt='d')  \n",
    "plt.xlabel(\"Predicted value\")\n",
    "plt.ylabel(\"Actuall value\")"
   ]
  },
  {
   "cell_type": "code",
   "execution_count": null,
   "id": "93e8c63d",
   "metadata": {},
   "outputs": [],
   "source": [
    "print(classification_report(y_test,y_pred))"
   ]
  },
  {
   "cell_type": "markdown",
   "id": "e9fbd327",
   "metadata": {},
   "source": [
    "#### Ensemble ML Model"
   ]
  },
  {
   "cell_type": "code",
   "execution_count": null,
   "id": "62bd17fe",
   "metadata": {},
   "outputs": [],
   "source": [
    "from sklearn.ensemble import RandomForestClassifier\n",
    "\n",
    "model_rf=RandomForestClassifier(n_estimators=200)\n",
    "\n",
    "model_rf.fit(X_train,y_train)"
   ]
  },
  {
   "cell_type": "code",
   "execution_count": null,
   "id": "e6731b76",
   "metadata": {},
   "outputs": [],
   "source": [
    "y_pred=model_rf.predict(X_test)"
   ]
  },
  {
   "cell_type": "code",
   "execution_count": null,
   "id": "35eb0efb",
   "metadata": {},
   "outputs": [],
   "source": [
    "rfm_score=accuracy_score(y_test,y_pred)\n",
    "rfm_pre_score=precision_score(y_test,y_pred)\n",
    "print(\"Accuracy score : \",rfm_score)\n",
    "print(\"Precision score : \",rfm_pre_score)\n",
    "print(\"Recall Score : \",recall_score(y_test,y_pred))\n",
    "print(\"F1 Score : \",f1_score(y_test,y_pred))"
   ]
  },
  {
   "cell_type": "code",
   "execution_count": null,
   "id": "593f631b",
   "metadata": {},
   "outputs": [],
   "source": [
    "print(classification_report(y_test,y_pred))"
   ]
  },
  {
   "cell_type": "code",
   "execution_count": null,
   "id": "5a4d896e",
   "metadata": {},
   "outputs": [],
   "source": [
    "cm= confusion_matrix(y_test,y_pred)\n",
    "plt.title(\"Actual Vs Predictes using RF Model\")\n",
    "sns.heatmap(cm,annot=True,cmap=\"mako\", fmt='d')  \n",
    "plt.xlabel(\"Predicted value\")\n",
    "plt.ylabel(\"Actuall value\")"
   ]
  },
  {
   "cell_type": "markdown",
   "id": "d0b7b194",
   "metadata": {},
   "source": [
    "#### XGBoost model"
   ]
  },
  {
   "cell_type": "code",
   "execution_count": null,
   "id": "b2642180",
   "metadata": {},
   "outputs": [],
   "source": [
    "from xgboost import XGBClassifier\n",
    "\n",
    "model_xgb=XGBClassifier()\n",
    "\n",
    "model_xgb.fit(X_train,y_train)"
   ]
  },
  {
   "cell_type": "code",
   "execution_count": null,
   "id": "71bc2fb4",
   "metadata": {},
   "outputs": [],
   "source": [
    "y_pred=model_xgb.predict(X_test)"
   ]
  },
  {
   "cell_type": "code",
   "execution_count": null,
   "id": "17599885",
   "metadata": {},
   "outputs": [],
   "source": [
    "xgb_score=accuracy_score(y_test,y_pred)\n",
    "\n",
    "print(\"XGB Score: \",xgb_score)\n",
    "xgb_pre_score=precision_score(y_test,y_pred)\n",
    "print(\"XGB Precision Score: \",xgb_pre_score)"
   ]
  },
  {
   "cell_type": "markdown",
   "id": "9f30e411",
   "metadata": {},
   "source": [
    "#### KNN Model"
   ]
  },
  {
   "cell_type": "code",
   "execution_count": null,
   "id": "ada214fd",
   "metadata": {},
   "outputs": [],
   "source": [
    "from sklearn.neighbors import KNeighborsClassifier\n",
    "\n",
    "model_knn=KNeighborsClassifier(n_neighbors=10)\n",
    "\n",
    "model_knn.fit(X_train,y_train)"
   ]
  },
  {
   "cell_type": "code",
   "execution_count": null,
   "id": "c30582be",
   "metadata": {},
   "outputs": [],
   "source": [
    "y_pred=model_knn.predict(X_test)"
   ]
  },
  {
   "cell_type": "code",
   "execution_count": null,
   "id": "90a21c61",
   "metadata": {},
   "outputs": [],
   "source": [
    "print(classification_report(y_test,y_pred))"
   ]
  },
  {
   "cell_type": "code",
   "execution_count": null,
   "id": "4f427071",
   "metadata": {},
   "outputs": [],
   "source": [
    "knn_score=accuracy_score(y_test,y_pred)\n",
    "knn_pre_score=precision_score(y_test,y_pred)\n",
    "print(\"Accuracy score : \",knn_score)\n",
    "print(\"Precision score : \",knn_pre_score)\n",
    "print(\"Recall Score : \",recall_score(y_test,y_pred))\n",
    "print(\"F1 Score : \",f1_score(y_test,y_pred))"
   ]
  },
  {
   "cell_type": "code",
   "execution_count": null,
   "id": "54723c60",
   "metadata": {},
   "outputs": [],
   "source": [
    "cm= confusion_matrix(y_test,y_pred)\n",
    "plt.title(\"Actual Vs Predictes using KNN Model\")\n",
    "sns.heatmap(cm,annot=True,cmap=\"mako\", fmt='d')  \n",
    "plt.xlabel(\"Predicted value\")\n",
    "plt.ylabel(\"Actuall value\")"
   ]
  },
  {
   "cell_type": "markdown",
   "id": "098e2a5c",
   "metadata": {},
   "source": [
    "#### ANN Using Sigmoid Function"
   ]
  },
  {
   "cell_type": "code",
   "execution_count": null,
   "id": "5c794f7e",
   "metadata": {},
   "outputs": [],
   "source": [
    "from keras.models import Sequential\n",
    "from keras.layers import Dense"
   ]
  },
  {
   "cell_type": "code",
   "execution_count": null,
   "id": "e9b3e683",
   "metadata": {},
   "outputs": [],
   "source": [
    "model=Sequential()\n",
    "model.add(Dense(11,activation='relu',input_dim=11)) #Dense\n",
    "model.add(Dense(1,activation='sigmoid'))\n",
    "#Output will be 1 for binary classification and diabetes is either 0 or 1\n",
    "\n",
    "model.compile(loss='binary_crossentropy', #Loss to calculate model loss\n",
    "              optimizer='adam', #Optimizer to optimize the model learning\n",
    "              metrics=['accuracy']) #Metrics return accuracy score"
   ]
  },
  {
   "cell_type": "code",
   "execution_count": null,
   "id": "b6474ed2",
   "metadata": {},
   "outputs": [],
   "source": [
    "model.fit(X_train,y_train,epochs=300) #Iterations during retraining epoch=300"
   ]
  },
  {
   "cell_type": "code",
   "execution_count": null,
   "id": "605f13c0",
   "metadata": {},
   "outputs": [],
   "source": [
    "# 5.8.4 model predict\n",
    "\n",
    "y_pred=model.predict(X_test)\n",
    "y_pred = [round (i[0]) for i in y_pred] #here if we get more than 0.5 than it return 1\n",
    "print(y_pred)"
   ]
  },
  {
   "cell_type": "code",
   "execution_count": null,
   "id": "960e5247",
   "metadata": {},
   "outputs": [],
   "source": [
    "ann_score=accuracy_score(y_test,y_pred)\n",
    "print(\"ANN Score: \",ann_score)\n",
    "ann_pre_score=precision_score(y_test,y_pred)\n",
    "print(\"ANN Precision Score: \",lr_pre_score)"
   ]
  },
  {
   "cell_type": "markdown",
   "id": "fd18f225",
   "metadata": {},
   "source": [
    "### All model Scores"
   ]
  },
  {
   "cell_type": "code",
   "execution_count": null,
   "id": "d40138ae",
   "metadata": {},
   "outputs": [],
   "source": [
    "all_model_score=[lr_score,NB_score,svc_score,DT_score,rfm_score,xgb_score,knn_score,ann_score]\n",
    "model_name=['Logistic Regression','Naive','SVM','Decision Tree','Random Forest','XGB','Knn','ANN']\n",
    "for i in range(len(all_model_score)):\n",
    "    print(f'{i} : {all_model_score[i]}')"
   ]
  },
  {
   "cell_type": "code",
   "execution_count": null,
   "id": "96314569",
   "metadata": {},
   "outputs": [],
   "source": [
    "plt.figure(figsize=(12,5))\n",
    "plt.title('All Models Score Comparision')\n",
    "ax=plt.bar(x=model_name, height=all_model_score, color=sns.color_palette('mako'))\n",
    "plt.bar_label(ax)\n",
    "plt.xlabel('Model Name')\n",
    "plt.ylabel('Score')\n",
    "plt.xticks(rotation=45)\n",
    "plt.show()"
   ]
  },
  {
   "cell_type": "code",
   "execution_count": null,
   "id": "d97db1b9",
   "metadata": {},
   "outputs": [],
   "source": [
    "all_model_precision_score=[lr_pre_score,nb_pre_score,svc_pre_score,DT_pre_score,rfm_pre_score,xgb_pre_score,knn_pre_score,ann_pre_score]\n",
    "model_name=['Logistic Regression','Naive','SVM','Decision Tree','Random Forest','XGB','Knn','ANN']\n",
    "for i in range(len(all_model_precision_score)):\n",
    "    print(f'{i} : {all_model_precision_score[i]}')"
   ]
  },
  {
   "cell_type": "code",
   "execution_count": null,
   "id": "e7e06bf1",
   "metadata": {},
   "outputs": [],
   "source": [
    "plt.figure(figsize=(12,5))\n",
    "plt.title('All Models Precision Score Comparision')\n",
    "ax=plt.bar(x=model_name, height=all_model_precision_score, color=sns.color_palette('mako'))\n",
    "plt.bar_label(ax)\n",
    "plt.xlabel('Model Name')\n",
    "plt.ylabel('Score')\n",
    "plt.xticks(rotation=45)\n",
    "plt.show()"
   ]
  },
  {
   "cell_type": "markdown",
   "id": "7ca3b798",
   "metadata": {},
   "source": [
    "#### Export Model"
   ]
  },
  {
   "cell_type": "code",
   "execution_count": null,
   "id": "07f762dd",
   "metadata": {},
   "outputs": [],
   "source": [
    "import pickle\n",
    "\n",
    "filename='diabetes_model_XGB.pkl'\n",
    "\n",
    "with open(filename, 'wb') as file:\n",
    "    pickle.dump(model, file)"
   ]
  },
  {
   "cell_type": "code",
   "execution_count": null,
   "id": "a0e7c18b",
   "metadata": {},
   "outputs": [],
   "source": [
    "filename='diabetes_model_ANN.pkl'\n",
    "\n",
    "with open(filename, 'wb') as file:\n",
    "    pickle.dump(model, file)"
   ]
  }
 ],
 "metadata": {
  "kernelspec": {
   "display_name": "Python 3",
   "language": "python",
   "name": "python3"
  },
  "language_info": {
   "codemirror_mode": {
    "name": "ipython",
    "version": 3
   },
   "file_extension": ".py",
   "mimetype": "text/x-python",
   "name": "python",
   "nbconvert_exporter": "python",
   "pygments_lexer": "ipython3",
   "version": "3.13.6"
  }
 },
 "nbformat": 4,
 "nbformat_minor": 5
}
